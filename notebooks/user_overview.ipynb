{
 "cells": [
  {
   "cell_type": "code",
   "execution_count": 15,
   "metadata": {},
   "outputs": [],
   "source": [
    "import pandas as pd\n",
    "import numpy as np\n",
    "import psycopg2"
   ]
  },
  {
   "cell_type": "code",
   "execution_count": 2,
   "metadata": {},
   "outputs": [],
   "source": [
    "# Connect to PostgreSQL database\n",
    "conn = psycopg2.connect(\n",
    "    host=\"localhost\",\n",
    "    database=\"postgres\",\n",
    "    user=\"postgres\",\n",
    "    password=\"Root@123\",\n",
    ")"
   ]
  },
  {
   "cell_type": "code",
   "execution_count": 3,
   "metadata": {},
   "outputs": [],
   "source": [
    "# Define a function to execute SQL queries and return results as a DataFrame\n",
    "def execute_query(query):\n",
    "    with conn.cursor() as cursor:\n",
    "        cursor.execute(query)\n",
    "        columns = [desc[0] for desc in cursor.description]\n",
    "        return pd.DataFrame(cursor.fetchall(), columns=columns)"
   ]
  },
  {
   "cell_type": "code",
   "execution_count": 4,
   "metadata": {},
   "outputs": [],
   "source": [
    "query = \"\"\"\n",
    "SELECT * FROM public.xdr_data\n",
    "\"\"\""
   ]
  },
  {
   "cell_type": "code",
   "execution_count": 5,
   "metadata": {},
   "outputs": [],
   "source": [
    "# Execute query and load data into DataFrame\n",
    "df = execute_query(query)"
   ]
  },
  {
   "cell_type": "code",
   "execution_count": 6,
   "metadata": {},
   "outputs": [
    {
     "name": "stdout",
     "output_type": "stream",
     "text": [
      "      Bearer Id            Start  Start ms              End  End ms  \\\n",
      "0  1.311448e+19   4/4/2019 12:01     770.0  4/25/2019 14:35   662.0   \n",
      "1  1.311448e+19   4/9/2019 13:04     235.0   4/25/2019 8:15   606.0   \n",
      "2  1.311448e+19   4/9/2019 17:42       1.0  4/25/2019 11:58   652.0   \n",
      "3  1.311448e+19   4/10/2019 0:31     486.0   4/25/2019 7:36   171.0   \n",
      "4  1.311448e+19  4/12/2019 20:10     565.0  4/25/2019 10:40   954.0   \n",
      "\n",
      "   Dur. (ms)          IMSI  MSISDN/Number          IMEI  \\\n",
      "0  1823652.0  2.082014e+14   3.366496e+10  3.552121e+13   \n",
      "1  1365104.0  2.082019e+14   3.368185e+10  3.579401e+13   \n",
      "2  1361762.0  2.082003e+14   3.376063e+10  3.528151e+13   \n",
      "3  1321509.0  2.082014e+14   3.375034e+10  3.535661e+13   \n",
      "4  1089009.0  2.082014e+14   3.369980e+10  3.540701e+13   \n",
      "\n",
      "      Last Location Name  ...  Youtube DL (Bytes)  Youtube UL (Bytes)  \\\n",
      "0  9.16456699548519E+015  ...          15854611.0           2501332.0   \n",
      "1                L77566A  ...          20247395.0          19111729.0   \n",
      "2                D42335A  ...          19725661.0          14699576.0   \n",
      "3                T21824A  ...          21388122.0          15146643.0   \n",
      "4                D88865A  ...          15259380.0          18962873.0   \n",
      "\n",
      "   Netflix DL (Bytes)  Netflix UL (Bytes)  Gaming DL (Bytes)  \\\n",
      "0           8198936.0           9656251.0        278082303.0   \n",
      "1          18338413.0          17227132.0        608750074.0   \n",
      "2          17587794.0           6163408.0        229584621.0   \n",
      "3          13994646.0           1097942.0        799538153.0   \n",
      "4          17124581.0            415218.0        527707248.0   \n",
      "\n",
      "   Gaming UL (Bytes)  Other DL (Bytes)  Other UL (Bytes)  Total UL (Bytes)  \\\n",
      "0         14344150.0       171744450.0         8814393.0        36749741.0   \n",
      "1          1170709.0       526904238.0        15055145.0        53800391.0   \n",
      "2           395630.0       410692588.0         4215763.0        27883638.0   \n",
      "3         10849722.0       749039933.0        12797283.0        43324218.0   \n",
      "4          3529801.0       550709500.0        13910322.0        38542814.0   \n",
      "\n",
      "   Total DL (Bytes)  \n",
      "0       308879636.0  \n",
      "1       653384965.0  \n",
      "2       279807335.0  \n",
      "3       846028530.0  \n",
      "4       569138589.0  \n",
      "\n",
      "[5 rows x 55 columns]\n"
     ]
    }
   ],
   "source": [
    "# Check the first few rows of the DataFrame\n",
    "print(df.head())"
   ]
  },
  {
   "cell_type": "code",
   "execution_count": 12,
   "metadata": {},
   "outputs": [],
   "source": [
    "def aggregate_user_behavior(df):\n",
    "    \"\"\"\n",
    "    Aggregate user behavior metrics per user (MSISDN).\n",
    "\n",
    "    Args:\n",
    "    - df (DataFrame): Input DataFrame containing the raw data.\n",
    "\n",
    "    Returns:\n",
    "    - user_behavior_df (DataFrame): DataFrame with aggregated user behavior metrics.\n",
    "    \"\"\"\n",
    "    # Group by MSISDN and aggregate metrics\n",
    "    user_behavior_df = (\n",
    "        df.groupby(\"MSISDN/Number\")\n",
    "        .agg(\n",
    "            {\n",
    "                \"Bearer Id\": \"count\",\n",
    "                \"Dur. (ms)\": \"sum\",\n",
    "                \"Total DL (Bytes)\": \"sum\",\n",
    "                \"Total UL (Bytes)\": \"sum\",\n",
    "                \"Social Media DL (Bytes)\": \"sum\",\n",
    "                \"Social Media UL (Bytes)\": \"sum\",\n",
    "                \"Google DL (Bytes)\": \"sum\",\n",
    "                \"Google UL (Bytes)\": \"sum\",\n",
    "                \"Email DL (Bytes)\": \"sum\",\n",
    "                \"Email UL (Bytes)\": \"sum\",\n",
    "                \"Youtube DL (Bytes)\": \"sum\",\n",
    "                \"Youtube UL (Bytes)\": \"sum\",\n",
    "                \"Netflix DL (Bytes)\": \"sum\",\n",
    "                \"Netflix UL (Bytes)\": \"sum\",\n",
    "                \"Gaming DL (Bytes)\": \"sum\",\n",
    "                \"Gaming UL (Bytes)\": \"sum\",\n",
    "                \"Other DL (Bytes)\": \"sum\",\n",
    "                \"Other UL (Bytes)\": \"sum\",\n",
    "            }\n",
    "        )\n",
    "        .reset_index()\n",
    "    )\n",
    "\n",
    "    return user_behavior_df"
   ]
  },
  {
   "cell_type": "code",
   "execution_count": 13,
   "metadata": {},
   "outputs": [],
   "source": [
    "def handle_missing_values_and_outliers(df):\n",
    "    \"\"\"\n",
    "    Handle missing values and outliers in the DataFrame by replacing them with column mean.\n",
    "\n",
    "    Args:\n",
    "    - df (DataFrame): Input DataFrame containing the raw data.\n",
    "\n",
    "    Returns:\n",
    "    - cleaned_df (DataFrame): DataFrame with missing values and outliers replaced with column mean.\n",
    "    \"\"\"\n",
    "    # Replace missing values with column mean\n",
    "    cleaned_df = df.fillna(df.mean())\n",
    "\n",
    "    # Replace outliers with column mean\n",
    "    for column in df.columns:\n",
    "        if df[column].dtype != \"object\":\n",
    "            cleaned_df[column] = np.where(\n",
    "                (cleaned_df[column] < cleaned_df[column].quantile(0.05))\n",
    "                | (cleaned_df[column] > cleaned_df[column].quantile(0.95)),\n",
    "                cleaned_df[column].mean(),\n",
    "                cleaned_df[column],\n",
    "            )\n",
    "\n",
    "    return cleaned_df"
   ]
  },
  {
   "cell_type": "code",
   "execution_count": 16,
   "metadata": {},
   "outputs": [
    {
     "name": "stdout",
     "output_type": "stream",
     "text": [
      "   MSISDN/Number  Bearer Id  Dur. (ms)  Total DL (Bytes)  Total UL (Bytes)  \\\n",
      "0   4.511474e+10        1.0   116720.0      8.426375e+08      3.605311e+07   \n",
      "1   4.511474e+10        1.0   181230.0      1.207552e+08      3.610446e+07   \n",
      "2   4.511474e+10        1.0   134969.0      5.566597e+08      3.930682e+07   \n",
      "3   4.511474e+10        1.0    49878.0      4.019932e+08      5.730942e+07   \n",
      "4   4.511474e+10        2.0    37104.0      1.363130e+09      9.428053e+07   \n",
      "\n",
      "   Social Media DL (Bytes)  Social Media UL (Bytes)  Google DL (Bytes)  \\\n",
      "0                2206504.0                  25631.0          3337123.0   \n",
      "1                2598548.0                  62017.0          4197697.0   \n",
      "2                3148004.0                  47619.0          3343483.0   \n",
      "3                 251469.0                  28825.0          5937765.0   \n",
      "4                2861230.0                  51312.0         13728668.0   \n",
      "\n",
      "   Google UL (Bytes)  Email DL (Bytes)  Email UL (Bytes)  Youtube DL (Bytes)  \\\n",
      "0       1.051882e+06          837400.0          493962.0          14900201.0   \n",
      "1       1.137166e+06         2828821.0          478960.0           5324251.0   \n",
      "2       2.865938e+06         2436500.0          768880.0           2137272.0   \n",
      "3       3.740728e+06         2178618.0          106052.0           4393123.0   \n",
      "4       4.770948e+06         2247808.0         1057661.0          10339971.0   \n",
      "\n",
      "   Youtube UL (Bytes)  Netflix DL (Bytes)  Netflix UL (Bytes)  \\\n",
      "0           6724347.0        1.026510e+07        1.691588e+07   \n",
      "1           7107972.0        1.620639e+07        1.045119e+07   \n",
      "2          19196298.0        1.652592e+07        2.827981e+06   \n",
      "3           2584198.0        1.620639e+07        1.533194e+07   \n",
      "4          31193031.0        2.497165e+07        2.423008e+07   \n",
      "\n",
      "   Gaming DL (Bytes)  Gaming UL (Bytes)  Other DL (Bytes)  Other UL (Bytes)  \n",
      "0       8.110911e+08          1367528.0      3.770970e+08         9473882.0  \n",
      "1       1.050353e+08         14714780.0      2.795577e+08         2152370.0  \n",
      "2       5.290685e+08          9759228.0      4.950865e+08         6607171.0  \n",
      "3       3.880748e+08          3051292.0      5.869916e+08        10031701.0  \n",
      "4       1.308981e+09          5816727.0      7.776437e+08        27160771.0  \n"
     ]
    }
   ],
   "source": [
    "# Aggregate user behavior metrics\n",
    "user_behavior_df = aggregate_user_behavior(df)\n",
    "\n",
    "# Handle missing values and outliers\n",
    "cleaned_df = handle_missing_values_and_outliers(user_behavior_df)\n",
    "\n",
    "# Display the first few rows of the cleaned DataFrame\n",
    "print(cleaned_df.head())"
   ]
  }
 ],
 "metadata": {
  "kernelspec": {
   "display_name": "venv",
   "language": "python",
   "name": "python3"
  },
  "language_info": {
   "codemirror_mode": {
    "name": "ipython",
    "version": 3
   },
   "file_extension": ".py",
   "mimetype": "text/x-python",
   "name": "python",
   "nbconvert_exporter": "python",
   "pygments_lexer": "ipython3",
   "version": "3.12.3"
  }
 },
 "nbformat": 4,
 "nbformat_minor": 2
}
