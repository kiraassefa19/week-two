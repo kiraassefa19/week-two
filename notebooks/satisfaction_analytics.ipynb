{
 "cells": [
  {
   "cell_type": "code",
   "execution_count": 1,
   "metadata": {},
   "outputs": [],
   "source": [
    "import pandas as pd\n",
    "import numpy as np\n",
    "from sklearn.cluster import KMeans\n",
    "from sklearn.preprocessing import StandardScaler\n",
    "from sklearn.metrics.pairwise import euclidean_distances\n",
    "from sklearn.model_selection import train_test_split\n",
    "from sklearn.ensemble import RandomForestRegressor\n",
    "from sklearn.metrics import mean_squared_error, r2_score"
   ]
  },
  {
   "cell_type": "code",
   "execution_count": 2,
   "metadata": {},
   "outputs": [
    {
     "name": "stdout",
     "output_type": "stream",
     "text": [
      "Connected to PostgreSQL database successfully!\n"
     ]
    }
   ],
   "source": [
    "import psycopg2\n",
    "\n",
    "def connect_to_postgres(host, port, database, user, password):\n",
    "    try:\n",
    "        # Connect to the PostgreSQL database\n",
    "        connection = psycopg2.connect(\n",
    "            host=host, port=port, database=database, user=user, password=password\n",
    "        )\n",
    "        print(\"Connected to PostgreSQL database successfully!\")\n",
    "        return connection\n",
    "    except (Exception, psycopg2.Error) as error:\n",
    "        print(\"Error while connecting to PostgreSQL\", error)\n",
    "        return None\n",
    "\n",
    "\n",
    "# Provide your PostgreSQL connection details\n",
    "host = \"localhost\"\n",
    "port = \"5432\"\n",
    "database = \"postgres\"\n",
    "user = \"postgres\"\n",
    "password = \"Root@123\"\n",
    "\n",
    "# Connect to the PostgreSQL database\n",
    "connection = connect_to_postgres(host, port, database, user, password)\n",
    "\n",
    "# Check if connection is successful before proceeding further\n",
    "if connection:\n",
    "    # Add your code here to perform tasks on the database\n",
    "    pass"
   ]
  },
  {
   "cell_type": "code",
   "execution_count": 3,
   "metadata": {},
   "outputs": [
    {
     "name": "stdout",
     "output_type": "stream",
     "text": [
      "      Bearer Id            Start  Start ms              End  End ms  \\\n",
      "0  1.311448e+19   4/4/2019 12:01     770.0  4/25/2019 14:35   662.0   \n",
      "1  1.311448e+19   4/9/2019 13:04     235.0   4/25/2019 8:15   606.0   \n",
      "2  1.311448e+19   4/9/2019 17:42       1.0  4/25/2019 11:58   652.0   \n",
      "3  1.311448e+19   4/10/2019 0:31     486.0   4/25/2019 7:36   171.0   \n",
      "4  1.311448e+19  4/12/2019 20:10     565.0  4/25/2019 10:40   954.0   \n",
      "\n",
      "   Dur. (ms)          IMSI  MSISDN/Number          IMEI  \\\n",
      "0  1823652.0  2.082014e+14   3.366496e+10  3.552121e+13   \n",
      "1  1365104.0  2.082019e+14   3.368185e+10  3.579401e+13   \n",
      "2  1361762.0  2.082003e+14   3.376063e+10  3.528151e+13   \n",
      "3  1321509.0  2.082014e+14   3.375034e+10  3.535661e+13   \n",
      "4  1089009.0  2.082014e+14   3.369980e+10  3.540701e+13   \n",
      "\n",
      "      Last Location Name  ...  Youtube DL (Bytes)  Youtube UL (Bytes)  \\\n",
      "0  9.16456699548519E+015  ...          15854611.0           2501332.0   \n",
      "1                L77566A  ...          20247395.0          19111729.0   \n",
      "2                D42335A  ...          19725661.0          14699576.0   \n",
      "3                T21824A  ...          21388122.0          15146643.0   \n",
      "4                D88865A  ...          15259380.0          18962873.0   \n",
      "\n",
      "   Netflix DL (Bytes)  Netflix UL (Bytes)  Gaming DL (Bytes)  \\\n",
      "0           8198936.0           9656251.0        278082303.0   \n",
      "1          18338413.0          17227132.0        608750074.0   \n",
      "2          17587794.0           6163408.0        229584621.0   \n",
      "3          13994646.0           1097942.0        799538153.0   \n",
      "4          17124581.0            415218.0        527707248.0   \n",
      "\n",
      "   Gaming UL (Bytes)  Other DL (Bytes)  Other UL (Bytes)  Total UL (Bytes)  \\\n",
      "0         14344150.0       171744450.0         8814393.0        36749741.0   \n",
      "1          1170709.0       526904238.0        15055145.0        53800391.0   \n",
      "2           395630.0       410692588.0         4215763.0        27883638.0   \n",
      "3         10849722.0       749039933.0        12797283.0        43324218.0   \n",
      "4          3529801.0       550709500.0        13910322.0        38542814.0   \n",
      "\n",
      "   Total DL (Bytes)  \n",
      "0       308879636.0  \n",
      "1       653384965.0  \n",
      "2       279807335.0  \n",
      "3       846028530.0  \n",
      "4       569138589.0  \n",
      "\n",
      "[5 rows x 55 columns]\n"
     ]
    }
   ],
   "source": [
    "def fetch_data(connection, query):\n",
    "    try:\n",
    "        # Create a cursor object using the connection\n",
    "        cursor = connection.cursor()\n",
    "\n",
    "        # Execute the query\n",
    "        cursor.execute(query)\n",
    "\n",
    "        # Fetch all the rows\n",
    "        data = cursor.fetchall()\n",
    "\n",
    "        # Get the column names\n",
    "        columns = [desc[0] for desc in cursor.description]\n",
    "\n",
    "        # Create a DataFrame using the fetched data and column names\n",
    "        df = pd.DataFrame(data, columns=columns)\n",
    "\n",
    "        # Close the cursor\n",
    "        cursor.close()\n",
    "\n",
    "        return df\n",
    "    except (Exception, psycopg2.Error) as error:\n",
    "        print(\"Error fetching data from PostgreSQL:\", error)\n",
    "        return None\n",
    "\n",
    "\n",
    "# Define the SQL query to retrieve relevant columns from the xdr_data table\n",
    "query = \"\"\"\n",
    "    SELECT *\n",
    "    FROM public.xdr_data\n",
    "\"\"\"\n",
    "\n",
    "# Fetch the data from the database\n",
    "xdr_data = fetch_data(connection, query)\n",
    "\n",
    "# Display the first few rows of the fetched data\n",
    "print(xdr_data.head())"
   ]
  },
  {
   "cell_type": "code",
   "execution_count": 4,
   "metadata": {},
   "outputs": [],
   "source": [
    "from sklearn.cluster import KMeans\n",
    "from sklearn.preprocessing import StandardScaler\n",
    "\n",
    "# Selecting relevant features for clustering\n",
    "features = [\n",
    "    \"Avg RTT DL (ms)\",\n",
    "    \"Avg RTT UL (ms)\",\n",
    "    \"Avg Bearer TP DL (kbps)\",\n",
    "    \"Avg Bearer TP UL (kbps)\",\n",
    "    \"TCP DL Retrans. Vol (Bytes)\",\n",
    "    \"TCP UL Retrans. Vol (Bytes)\",\n",
    "    \"Activity Duration DL (ms)\",\n",
    "    \"Activity Duration UL (ms)\",\n",
    "    \"Total UL (Bytes)\",\n",
    "    \"Total DL (Bytes)\",\n",
    "]\n",
    "\n",
    "# Dropping rows with missing values\n",
    "xdr_data.dropna(subset=features, inplace=True)\n",
    "\n",
    "# Standardizing the features\n",
    "scaler = StandardScaler()\n",
    "xdr_data_scaled = scaler.fit_transform(xdr_data[features])"
   ]
  },
  {
   "cell_type": "code",
   "execution_count": 5,
   "metadata": {},
   "outputs": [
    {
     "name": "stdout",
     "output_type": "stream",
     "text": [
      "    MSISDN/Number  Engagement Score  Experience Score\n",
      "9    3.365922e+10          2.575522          2.575522\n",
      "11   3.366447e+10          0.889504          0.889504\n",
      "14   3.365922e+10          1.540988          1.540988\n",
      "15   3.375376e+10          2.886639          2.886639\n",
      "20   3.365875e+10          1.735851          1.735851\n"
     ]
    }
   ],
   "source": [
    "# Performing k-means clustering with k=2 for engagement\n",
    "kmeans_engagement = KMeans(n_clusters=2, random_state=42)\n",
    "xdr_data[\"Engagement Cluster\"] = kmeans_engagement.fit_predict(xdr_data_scaled)\n",
    "\n",
    "# Performing k-means clustering with k=2 for experience\n",
    "kmeans_experience = KMeans(n_clusters=2, random_state=42)\n",
    "xdr_data[\"Experience Cluster\"] = kmeans_experience.fit_predict(xdr_data_scaled)\n",
    "\n",
    "# Calculate engagement scores\n",
    "engagement_centroids = kmeans_engagement.cluster_centers_\n",
    "engagement_distances = np.linalg.norm(\n",
    "    xdr_data_scaled - engagement_centroids[xdr_data[\"Engagement Cluster\"]], axis=1\n",
    ")\n",
    "xdr_data[\"Engagement Score\"] = engagement_distances\n",
    "\n",
    "# Calculate experience scores\n",
    "experience_centroids = kmeans_experience.cluster_centers_\n",
    "experience_distances = np.linalg.norm(\n",
    "    xdr_data_scaled - experience_centroids[xdr_data[\"Experience Cluster\"]], axis=1\n",
    ")\n",
    "xdr_data[\"Experience Score\"] = experience_distances\n",
    "\n",
    "# Display the first few rows of the DataFrame with scores\n",
    "print(xdr_data[[\"MSISDN/Number\", \"Engagement Score\", \"Experience Score\"]].head())"
   ]
  },
  {
   "cell_type": "code",
   "execution_count": 6,
   "metadata": {},
   "outputs": [
    {
     "name": "stdout",
     "output_type": "stream",
     "text": [
      "Top 10 Satisfied Customers:\n",
      "        MSISDN/Number  Satisfaction Score\n",
      "36203    3.366905e+10          106.716518\n",
      "76641    3.365825e+10           96.748367\n",
      "67308    3.376359e+10           90.057374\n",
      "1505     3.366905e+10           82.925935\n",
      "42107    3.376206e+10           74.358950\n",
      "133265   3.366470e+10           64.190409\n",
      "35138    3.366509e+10           63.559904\n",
      "119183   3.365083e+10           47.170658\n",
      "142220   3.376092e+10           45.409706\n",
      "22851    3.376094e+10           45.199944\n"
     ]
    }
   ],
   "source": [
    "# Calculate satisfaction score\n",
    "xdr_data[\"Satisfaction Score\"] = (\n",
    "    xdr_data[\"Engagement Score\"] + xdr_data[\"Experience Score\"]\n",
    ") / 2\n",
    "\n",
    "# Report the top 10 satisfied customers\n",
    "top_satisfied_customers = xdr_data[[\"MSISDN/Number\", \"Satisfaction Score\"]].nlargest(\n",
    "    10, \"Satisfaction Score\"\n",
    ")\n",
    "print(\"Top 10 Satisfied Customers:\")\n",
    "print(top_satisfied_customers)"
   ]
  },
  {
   "cell_type": "code",
   "execution_count": 7,
   "metadata": {},
   "outputs": [],
   "source": [
    "# Selecting relevant features and target variable\n",
    "X = xdr_data[features]\n",
    "y = xdr_data[\"Satisfaction Score\"]\n",
    "\n",
    "# Splitting the data into training and testing sets\n",
    "X_train, X_test, y_train, y_test = train_test_split(\n",
    "    X, y, test_size=0.2, random_state=42\n",
    ")\n",
    "\n",
    "# Initialize the Random Forest Regressor\n",
    "rf_regressor = RandomForestRegressor(n_estimators=100, random_state=42)\n",
    "\n",
    "# Train the model\n",
    "rf_regressor.fit(X_train, y_train)\n",
    "\n",
    "# Predict on the test set\n",
    "y_pred = rf_regressor.predict(X_test)"
   ]
  },
  {
   "cell_type": "code",
   "execution_count": 8,
   "metadata": {},
   "outputs": [
    {
     "name": "stdout",
     "output_type": "stream",
     "text": [
      "Mean Squared Error: 0.2090084591996781\n",
      "R-squared: 0.9502807707801282\n"
     ]
    }
   ],
   "source": [
    "# Evaluate the model\n",
    "mse = mean_squared_error(y_test, y_pred)\n",
    "r2 = r2_score(y_test, y_pred)\n",
    "\n",
    "print(\"Mean Squared Error:\", mse)\n",
    "print(\"R-squared:\", r2)"
   ]
  },
  {
   "cell_type": "code",
   "execution_count": 9,
   "metadata": {},
   "outputs": [
    {
     "name": "stdout",
     "output_type": "stream",
     "text": [
      "Engagement Cluster Stats:\n",
      "                    Satisfaction Score  Experience Score\n",
      "Engagement Cluster                                      \n",
      "0                             4.026023          4.026023\n",
      "1                             2.034945          2.034945\n",
      "\n",
      "Experience Cluster Stats:\n",
      "                    Satisfaction Score  Experience Score\n",
      "Experience Cluster                                      \n",
      "0                             4.026023          4.026023\n",
      "1                             2.034945          2.034945\n"
     ]
    }
   ],
   "source": [
    "# Group by engagement cluster and calculate average satisfaction and experience scores\n",
    "engagement_cluster_stats = xdr_data.groupby(\"Engagement Cluster\").agg(\n",
    "    {\"Satisfaction Score\": \"mean\", \"Experience Score\": \"mean\"}\n",
    ")\n",
    "\n",
    "# Group by experience cluster and calculate average satisfaction and experience scores\n",
    "experience_cluster_stats = xdr_data.groupby(\"Experience Cluster\").agg(\n",
    "    {\"Satisfaction Score\": \"mean\", \"Experience Score\": \"mean\"}\n",
    ")\n",
    "\n",
    "print(\"Engagement Cluster Stats:\")\n",
    "print(engagement_cluster_stats)\n",
    "\n",
    "print(\"\\nExperience Cluster Stats:\")\n",
    "print(experience_cluster_stats)"
   ]
  },
  {
   "cell_type": "code",
   "execution_count": 11,
   "metadata": {},
   "outputs": [
    {
     "name": "stdout",
     "output_type": "stream",
     "text": [
      "Cluster statistics saved successfully.\n"
     ]
    }
   ],
   "source": [
    "# Save engagement cluster stats to CSV\n",
    "engagement_cluster_stats.to_csv(\"../data/engagement_cluster_stats.csv\")\n",
    "\n",
    "# Save experience cluster stats to CSV\n",
    "experience_cluster_stats.to_csv(\"../data/experience_cluster_stats.csv\")\n",
    "\n",
    "print(\"Cluster statistics saved successfully.\")"
   ]
  }
 ],
 "metadata": {
  "kernelspec": {
   "display_name": "myvenv",
   "language": "python",
   "name": "python3"
  },
  "language_info": {
   "codemirror_mode": {
    "name": "ipython",
    "version": 3
   },
   "file_extension": ".py",
   "mimetype": "text/x-python",
   "name": "python",
   "nbconvert_exporter": "python",
   "pygments_lexer": "ipython3",
   "version": "3.12.3"
  }
 },
 "nbformat": 4,
 "nbformat_minor": 2
}
